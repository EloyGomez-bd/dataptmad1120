{
 "cells": [
  {
   "cell_type": "markdown",
   "metadata": {},
   "source": [
    "# Web Scraping Lab\n",
    "\n",
    "You will find in this notebook some scrapy exercises to practise your scraping skills.\n",
    "\n",
    "**Tips:**\n",
    "\n",
    "- Check the response status code for each request to ensure you have obtained the intended content.\n",
    "- Print the response text in each request to understand the kind of info you are getting and its format.\n",
    "- Check for patterns in the response text to extract the data/info requested in each question.\n",
    "- Visit the urls below and take a look at their source code through Chrome DevTools. You'll need to identify the html tags, special class names, etc used in the html content you are expected to extract.\n",
    "\n",
    "**Resources**:\n",
    "- [Requests library](http://docs.python-requests.org/en/master/#the-user-guide)\n",
    "- [Beautiful Soup Doc](https://www.crummy.com/software/BeautifulSoup/bs4/doc/)\n",
    "- [Urllib](https://docs.python.org/3/library/urllib.html#module-urllib)\n",
    "- [re lib](https://docs.python.org/3/library/re.html)\n",
    "- [lxml lib](https://lxml.de/)\n",
    "- [Scrapy](https://scrapy.org/)\n",
    "- [List of HTTP status codes](https://en.wikipedia.org/wiki/List_of_HTTP_status_codes)\n",
    "- [HTML basics](http://www.simplehtmlguide.com/cheatsheet.php)\n",
    "- [CSS basics](https://www.cssbasics.com/#page_start)"
   ]
  },
  {
   "cell_type": "markdown",
   "metadata": {},
   "source": [
    "#### Below are the libraries and modules you may need. `requests`,  `BeautifulSoup` and `pandas` are already imported for you. If you prefer to use additional libraries feel free to do it."
   ]
  },
  {
   "cell_type": "code",
   "execution_count": 4,
   "metadata": {},
   "outputs": [],
   "source": [
    "import requests\n",
    "from bs4 import BeautifulSoup\n",
    "import pandas as pd\n",
    "import re"
   ]
  },
  {
   "cell_type": "markdown",
   "metadata": {},
   "source": [
    "#### Download, parse (using BeautifulSoup), and print the content from the Trending Developers page from GitHub:"
   ]
  },
  {
   "cell_type": "code",
   "execution_count": 2,
   "metadata": {},
   "outputs": [],
   "source": [
    "# This is the url you will scrape in this exercise\n",
    "url = 'https://github.com/trending/developers'"
   ]
  },
  {
   "cell_type": "code",
   "execution_count": 3,
   "metadata": {},
   "outputs": [],
   "source": [
    "# your code here\n",
    "html = requests.get(url).content\n",
    "soup = BeautifulSoup(html, 'html.parser')"
   ]
  },
  {
   "cell_type": "markdown",
   "metadata": {},
   "source": [
    "#### Display the names of the trending developers retrieved in the previous step.\n",
    "\n",
    "Your output should be a Python list of developer names. Each name should not contain any html tag.\n",
    "\n",
    "**Instructions:**\n",
    "\n",
    "1. Find out the html tag and class names used for the developer names. You can achieve this using Chrome DevTools.\n",
    "\n",
    "1. Use BeautifulSoup to extract all the html elements that contain the developer names.\n",
    "\n",
    "1. Use string manipulation techniques to replace whitespaces and linebreaks (i.e. `\\n`) in the *text* of each html element. Use a list to store the clean names.\n",
    "\n",
    "1. Print the list of names.\n",
    "\n",
    "Your output should look like below:\n",
    "\n",
    "```\n",
    "['trimstray (@trimstray)',\n",
    " 'joewalnes (JoeWalnes)',\n",
    " 'charlax (Charles-AxelDein)',\n",
    " 'ForrestKnight (ForrestKnight)',\n",
    " 'revery-ui (revery-ui)',\n",
    " 'alibaba (Alibaba)',\n",
    " 'Microsoft (Microsoft)',\n",
    " 'github (GitHub)',\n",
    " 'facebook (Facebook)',\n",
    " 'boazsegev (Bo)',\n",
    " 'google (Google)',\n",
    " 'cloudfetch',\n",
    " 'sindresorhus (SindreSorhus)',\n",
    " 'tensorflow',\n",
    " 'apache (TheApacheSoftwareFoundation)',\n",
    " 'DevonCrawford (DevonCrawford)',\n",
    " 'ARMmbed (ArmMbed)',\n",
    " 'vuejs (vuejs)',\n",
    " 'fastai (fast.ai)',\n",
    " 'QiShaoXuan (Qi)',\n",
    " 'joelparkerhenderson (JoelParkerHenderson)',\n",
    " 'torvalds (LinusTorvalds)',\n",
    " 'CyC2018',\n",
    " 'komeiji-satori (神楽坂覚々)',\n",
    " 'script-8']\n",
    " ```"
   ]
  },
  {
   "cell_type": "code",
   "execution_count": 79,
   "metadata": {},
   "outputs": [
    {
     "data": {
      "text/plain": [
       "['Dries Vints (driesvints)',\n",
       " 'Ariel Mashraki (a8m)',\n",
       " 'Tomas Votruba (TomasVotruba)',\n",
       " 'Miek Gieben (miekg)',\n",
       " 'hiroki (privatenumber)',\n",
       " 'Felix Angelov (felangel)',\n",
       " 'Joakim Sørensen (ludeeus)',\n",
       " 'Thomas Lovén (thomasloven)',\n",
       " 'Ron Evans (deadprogram)',\n",
       " 'Samuel Colvin (samuelcolvin)',\n",
       " 'Daniel Mendler (minad)',\n",
       " 'Julien Le Coupanec (LeCoupa)',\n",
       " 'Frost Ming (frostming)',\n",
       " 'Jörg Thalheim (Mic92)',\n",
       " 'Michele Locati (mlocati)',\n",
       " 'Ross Wightman (rwightman)',\n",
       " 'Thibault Duplessis (ornicar)',\n",
       " 'hrsh7th (hrsh7th)',\n",
       " 'Matthias (xmatthias)',\n",
       " 'Wei Wang (onevcat)',\n",
       " 'Henrik Rydgård (hrydgard)',\n",
       " 'Fons van der Plas (fonsp)',\n",
       " 'Arvid Norberg (arvidn)',\n",
       " 'pedrobern (PedroBern)',\n",
       " 'Blake Blackshear (blakeblackshear)']"
      ]
     },
     "execution_count": 79,
     "metadata": {},
     "output_type": "execute_result"
    }
   ],
   "source": [
    "# your code here\n",
    "\n",
    "# We get the list of all elements containing names and alias of trending developers:\n",
    "\n",
    "all_names = soup.find_all('h1', {'class': 'h3 lh-condensed'})\n",
    "\n",
    "all_alias = soup.find_all('p', {'class': 'f4 text-normal mb-1'})\n",
    "\n",
    "names_nested_list = [name.get_text().strip().split('\\n') for name in all_names]\n",
    "alias_nested_list = [alias.get_text().strip().split('\\n') for alias in all_alias]\n",
    "\n",
    "# As we have nested lists, we flat both, alias and names lists and join them\n",
    "\n",
    "names_list = [name for i in names_nested_list for name in i]\n",
    "alias_list = [alias for i in alias_nested_list for alias in i]\n",
    "\n",
    "[f'{names_list[i]} ({alias_list[i]})' for i in range(len(names_list))]"
   ]
  },
  {
   "cell_type": "markdown",
   "metadata": {},
   "source": [
    "#### Display the trending Python repositories in GitHub.\n",
    "\n",
    "The steps to solve this problem is similar to the previous one except that you need to find out the repository names instead of developer names."
   ]
  },
  {
   "cell_type": "code",
   "execution_count": 17,
   "metadata": {},
   "outputs": [],
   "source": [
    "# This is the url you will scrape in this exercise\n",
    "url = 'https://github.com/trending/python?since=daily'"
   ]
  },
  {
   "cell_type": "code",
   "execution_count": 34,
   "metadata": {},
   "outputs": [
    {
     "data": {
      "text/plain": [
       "['/explosion/spaCy',\n",
       " '/doino-gretchenliev/revolut-stocks',\n",
       " '/TheAlgorithms/Python',\n",
       " '/MathInspector/MathInspector',\n",
       " '/swisskyrepo/PayloadsAllTheThings',\n",
       " '/dupontgu/retro-ipod-spotify-client',\n",
       " '/alibaba/taobao-iphone-device',\n",
       " '/3b1b/manim',\n",
       " '/minimaxir/big-list-of-naughty-strings',\n",
       " '/sdushantha/wifi-password',\n",
       " '/tensortrade-org/tensortrade',\n",
       " '/davidbombal/red-python-scripts',\n",
       " '/HashPals/Name-That-Hash',\n",
       " '/tiangolo/fastapi',\n",
       " '/PeterL1n/BackgroundMattingV2',\n",
       " '/yanshengjia/ml-road',\n",
       " '/optas/artemis',\n",
       " '/huggingface/transformers',\n",
       " '/ultrafunkamsterdam/undetected-chromedriver',\n",
       " '/y1ndan/genshin-impact-helper',\n",
       " '/ZHKKKe/MODNet',\n",
       " '/numpy/numpy',\n",
       " '/owid/covid-19-data',\n",
       " '/aws/aws-cli',\n",
       " '/vt-vl-lab/FGVC']"
      ]
     },
     "execution_count": 34,
     "metadata": {},
     "output_type": "execute_result"
    }
   ],
   "source": [
    "# your code here\n",
    "html = requests.get(url).content\n",
    "soup = BeautifulSoup(html, 'html.parser')\n",
    "\n",
    "content = soup.find_all('h1', {'class': 'h3 lh-condensed'}) \n",
    "\n",
    "[elements.find('a').get('href') for elements in content]\n",
    "    "
   ]
  },
  {
   "cell_type": "markdown",
   "metadata": {},
   "source": [
    "#### Display all the image links from Walt Disney wikipedia page."
   ]
  },
  {
   "cell_type": "code",
   "execution_count": 35,
   "metadata": {},
   "outputs": [],
   "source": [
    "# This is the url you will scrape in this exercise\n",
    "url = 'https://en.wikipedia.org/wiki/Walt_Disney'"
   ]
  },
  {
   "cell_type": "code",
   "execution_count": 40,
   "metadata": {},
   "outputs": [
    {
     "data": {
      "text/plain": [
       "['//upload.wikimedia.org/wikipedia/commons/thumb/d/df/Walt_Disney_1946.JPG/220px-Walt_Disney_1946.JPG',\n",
       " '//upload.wikimedia.org/wikipedia/commons/thumb/8/87/Walt_Disney_1942_signature.svg/150px-Walt_Disney_1942_signature.svg.png',\n",
       " '//upload.wikimedia.org/wikipedia/commons/thumb/c/c4/Walt_Disney_envelope_ca._1921.jpg/220px-Walt_Disney_envelope_ca._1921.jpg',\n",
       " '//upload.wikimedia.org/wikipedia/commons/thumb/0/0d/Trolley_Troubles_poster.jpg/170px-Trolley_Troubles_poster.jpg',\n",
       " '//upload.wikimedia.org/wikipedia/commons/thumb/7/71/Walt_Disney_and_his_cartoon_creation_%22Mickey_Mouse%22_-_National_Board_of_Review_Magazine.jpg/170px-Walt_Disney_and_his_cartoon_creation_%22Mickey_Mouse%22_-_National_Board_of_Review_Magazine.jpg',\n",
       " '//upload.wikimedia.org/wikipedia/en/thumb/4/4e/Steamboat-willie.jpg/170px-Steamboat-willie.jpg',\n",
       " '//upload.wikimedia.org/wikipedia/commons/thumb/5/57/Walt_Disney_1935.jpg/170px-Walt_Disney_1935.jpg',\n",
       " '//upload.wikimedia.org/wikipedia/commons/thumb/c/cd/Walt_Disney_Snow_white_1937_trailer_screenshot_%2813%29.jpg/220px-Walt_Disney_Snow_white_1937_trailer_screenshot_%2813%29.jpg',\n",
       " '//upload.wikimedia.org/wikipedia/commons/thumb/1/15/Disney_drawing_goofy.jpg/170px-Disney_drawing_goofy.jpg',\n",
       " '//upload.wikimedia.org/wikipedia/commons/thumb/1/13/DisneySchiphol1951.jpg/220px-DisneySchiphol1951.jpg',\n",
       " '//upload.wikimedia.org/wikipedia/commons/thumb/8/8c/WaltDisneyplansDisneylandDec1954.jpg/220px-WaltDisneyplansDisneylandDec1954.jpg',\n",
       " '//upload.wikimedia.org/wikipedia/commons/thumb/f/ff/Walt_disney_portrait_right.jpg/170px-Walt_disney_portrait_right.jpg',\n",
       " '//upload.wikimedia.org/wikipedia/commons/thumb/1/1a/Walt_Disney_Grave.JPG/170px-Walt_Disney_Grave.JPG',\n",
       " '//upload.wikimedia.org/wikipedia/commons/thumb/2/2d/Roy_O._Disney_with_Company_at_Press_Conference.jpg/170px-Roy_O._Disney_with_Company_at_Press_Conference.jpg',\n",
       " '//upload.wikimedia.org/wikipedia/commons/thumb/a/a9/Disney_Display_Case.JPG/170px-Disney_Display_Case.JPG',\n",
       " '//upload.wikimedia.org/wikipedia/commons/thumb/6/6c/Disney1968.jpg/170px-Disney1968.jpg',\n",
       " '//upload.wikimedia.org/wikipedia/commons/thumb/d/da/Animation_disc.svg/30px-Animation_disc.svg.png',\n",
       " '//upload.wikimedia.org/wikipedia/en/thumb/6/69/P_vip.svg/29px-P_vip.svg.png',\n",
       " '//upload.wikimedia.org/wikipedia/commons/thumb/1/1a/Magic_Kingdom_castle.jpg/24px-Magic_Kingdom_castle.jpg',\n",
       " '//upload.wikimedia.org/wikipedia/en/thumb/e/e7/Video-x-generic.svg/30px-Video-x-generic.svg.png',\n",
       " '//upload.wikimedia.org/wikipedia/commons/thumb/a/a3/Flag_of_Los_Angeles_County%2C_California.svg/30px-Flag_of_Los_Angeles_County%2C_California.svg.png',\n",
       " '//upload.wikimedia.org/wikipedia/commons/thumb/8/8c/Blank_television_set.svg/30px-Blank_television_set.svg.png',\n",
       " '//upload.wikimedia.org/wikipedia/en/thumb/a/a4/Flag_of_the_United_States.svg/30px-Flag_of_the_United_States.svg.png']"
      ]
     },
     "execution_count": 40,
     "metadata": {},
     "output_type": "execute_result"
    }
   ],
   "source": [
    "# your code here\n",
    "\n",
    "html = requests.get(url).content\n",
    "soup = BeautifulSoup(html, 'html.parser')\n",
    "\n",
    "images = soup.find_all('a', {'class': 'image'})\n",
    "\n",
    "[image.find('img').get('src') for image in images]"
   ]
  },
  {
   "cell_type": "markdown",
   "metadata": {},
   "source": [
    "#### Retrieve an arbitary Wikipedia page of \"Python\" and create a list of links on that page."
   ]
  },
  {
   "cell_type": "code",
   "execution_count": 41,
   "metadata": {},
   "outputs": [],
   "source": [
    "# This is the url you will scrape in this exercise\n",
    "url ='https://en.wikipedia.org/wiki/Python' "
   ]
  },
  {
   "cell_type": "code",
   "execution_count": 67,
   "metadata": {},
   "outputs": [
    {
     "data": {
      "text/plain": [
       "['/wiki/Pythons',\n",
       " '/wiki/Python_(genus)',\n",
       " '#Computing',\n",
       " '#People',\n",
       " '#Roller_coasters',\n",
       " '#Vehicles',\n",
       " '#Weaponry',\n",
       " '#Other_uses',\n",
       " '#See_also',\n",
       " '/wiki/Python_(programming_language)',\n",
       " '/wiki/CMU_Common_Lisp',\n",
       " '/wiki/PERQ#PERQ_3',\n",
       " '/wiki/Python_of_Aenus',\n",
       " '/wiki/Python_(painter)',\n",
       " '/wiki/Python_of_Byzantium',\n",
       " '/wiki/Python_of_Catana',\n",
       " '/wiki/Python_Anghelo',\n",
       " '/wiki/Python_(Efteling)',\n",
       " '/wiki/Python_(Busch_Gardens_Tampa_Bay)',\n",
       " '/wiki/Python_(Coney_Island,_Cincinnati,_Ohio)',\n",
       " '/wiki/Python_(automobile_maker)',\n",
       " '/wiki/Python_(Ford_prototype)',\n",
       " '/wiki/Python_(missile)',\n",
       " '/wiki/Python_(nuclear_primary)',\n",
       " '/wiki/Colt_Python',\n",
       " '/wiki/PYTHON',\n",
       " '/wiki/Python_(film)',\n",
       " '/wiki/Python_(mythology)',\n",
       " '/wiki/Monty_Python',\n",
       " '/wiki/Python_(Monty)_Pictures',\n",
       " '/wiki/Cython',\n",
       " '/wiki/Pyton',\n",
       " '/wiki/Pithon',\n",
       " '/wiki/Category:Disambiguation_pages',\n",
       " '/wiki/Category:Human_name_disambiguation_pages',\n",
       " '/wiki/Category:Disambiguation_pages_with_given-name-holder_lists',\n",
       " '/wiki/Category:Disambiguation_pages_with_short_descriptions',\n",
       " '/wiki/Category:Short_description_is_different_from_Wikidata',\n",
       " '/wiki/Category:All_article_disambiguation_pages',\n",
       " '/wiki/Category:All_disambiguation_pages',\n",
       " '/wiki/Category:Animal_common_name_disambiguation_pages',\n",
       " '/wiki/Special:MyTalk',\n",
       " '/wiki/Special:MyContributions',\n",
       " '/w/index.php?title=Special:CreateAccount&returnto=Python',\n",
       " '/w/index.php?title=Special:UserLogin&returnto=Python',\n",
       " '/wiki/Python',\n",
       " '/wiki/Talk:Python',\n",
       " '/wiki/Python',\n",
       " '/w/index.php?title=Python&action=edit',\n",
       " '/w/index.php?title=Python&action=history',\n",
       " '/wiki/Main_Page',\n",
       " '/wiki/Wikipedia:Contents',\n",
       " '/wiki/Portal:Current_events',\n",
       " '/wiki/Special:Random',\n",
       " '/wiki/Wikipedia:About',\n",
       " '//en.wikipedia.org/wiki/Wikipedia:Contact_us',\n",
       " 'https://donate.wikimedia.org/wiki/Special:FundraiserRedirector?utm_source=donate&utm_medium=sidebar&utm_campaign=C13_en.wikipedia.org&uselang=en',\n",
       " '/wiki/Help:Contents',\n",
       " '/wiki/Help:Introduction',\n",
       " '/wiki/Wikipedia:Community_portal',\n",
       " '/wiki/Special:RecentChanges',\n",
       " '/wiki/Wikipedia:File_Upload_Wizard',\n",
       " '/wiki/Special:WhatLinksHere/Python',\n",
       " '/wiki/Special:RecentChangesLinked/Python',\n",
       " '/wiki/Wikipedia:File_Upload_Wizard',\n",
       " '/wiki/Special:SpecialPages',\n",
       " '/w/index.php?title=Python&oldid=997582414',\n",
       " '/w/index.php?title=Python&action=info',\n",
       " '/w/index.php?title=Special:CiteThisPage&page=Python&id=997582414&wpFormIdentifier=titleform',\n",
       " 'https://www.wikidata.org/wiki/Special:EntityPage/Q747452',\n",
       " '/w/index.php?title=Special:DownloadAsPdf&page=Python&action=show-download-screen',\n",
       " '/w/index.php?title=Python&printable=yes',\n",
       " 'https://commons.wikimedia.org/wiki/Category:Python',\n",
       " 'https://af.wikipedia.org/wiki/Python',\n",
       " 'https://als.wikipedia.org/wiki/Python',\n",
       " 'https://ar.wikipedia.org/wiki/%D8%A8%D8%A7%D9%8A%D8%AB%D9%88%D9%86_(%D8%AA%D9%88%D8%B6%D9%8A%D8%AD)',\n",
       " 'https://az.wikipedia.org/wiki/Python',\n",
       " 'https://bn.wikipedia.org/wiki/%E0%A6%AA%E0%A6%BE%E0%A6%87%E0%A6%A5%E0%A6%A8_(%E0%A6%A6%E0%A7%8D%E0%A6%AC%E0%A7%8D%E0%A6%AF%E0%A6%B0%E0%A7%8D%E0%A6%A5%E0%A6%A4%E0%A6%BE_%E0%A6%A8%E0%A6%BF%E0%A6%B0%E0%A6%B8%E0%A6%A8)',\n",
       " 'https://be.wikipedia.org/wiki/Python',\n",
       " 'https://bg.wikipedia.org/wiki/%D0%9F%D0%B8%D1%82%D0%BE%D0%BD_(%D0%BF%D0%BE%D1%8F%D1%81%D0%BD%D0%B5%D0%BD%D0%B8%D0%B5)',\n",
       " 'https://cs.wikipedia.org/wiki/Python_(rozcestn%C3%ADk)',\n",
       " 'https://da.wikipedia.org/wiki/Python',\n",
       " 'https://de.wikipedia.org/wiki/Python',\n",
       " 'https://eo.wikipedia.org/wiki/Pitono_(apartigilo)',\n",
       " 'https://eu.wikipedia.org/wiki/Python_(argipena)',\n",
       " 'https://fa.wikipedia.org/wiki/%D9%BE%D8%A7%DB%8C%D8%AA%D9%88%D9%86',\n",
       " 'https://fr.wikipedia.org/wiki/Python',\n",
       " 'https://ko.wikipedia.org/wiki/%ED%8C%8C%EC%9D%B4%EC%84%A0',\n",
       " 'https://hr.wikipedia.org/wiki/Python_(razdvojba)',\n",
       " 'https://io.wikipedia.org/wiki/Pitono',\n",
       " 'https://id.wikipedia.org/wiki/Python',\n",
       " 'https://ia.wikipedia.org/wiki/Python_(disambiguation)',\n",
       " 'https://is.wikipedia.org/wiki/Python_(a%C3%B0greining)',\n",
       " 'https://it.wikipedia.org/wiki/Python_(disambigua)',\n",
       " 'https://he.wikipedia.org/wiki/%D7%A4%D7%99%D7%AA%D7%95%D7%9F',\n",
       " 'https://ka.wikipedia.org/wiki/%E1%83%9E%E1%83%98%E1%83%97%E1%83%9D%E1%83%9C%E1%83%98_(%E1%83%9B%E1%83%A0%E1%83%90%E1%83%95%E1%83%90%E1%83%9A%E1%83%9B%E1%83%9C%E1%83%98%E1%83%A8%E1%83%95%E1%83%9C%E1%83%94%E1%83%9A%E1%83%9D%E1%83%95%E1%83%90%E1%83%9C%E1%83%98)',\n",
       " 'https://kg.wikipedia.org/wiki/Mboma_(nyoka)',\n",
       " 'https://la.wikipedia.org/wiki/Python_(discretiva)',\n",
       " 'https://lb.wikipedia.org/wiki/Python',\n",
       " 'https://hu.wikipedia.org/wiki/Python_(egy%C3%A9rtelm%C5%B1s%C3%ADt%C5%91_lap)',\n",
       " 'https://mr.wikipedia.org/wiki/%E0%A4%AA%E0%A4%BE%E0%A4%AF%E0%A4%A5%E0%A5%89%E0%A4%A8_(%E0%A4%86%E0%A4%9C%E0%A5%8D%E0%A4%9E%E0%A4%BE%E0%A4%B5%E0%A4%B2%E0%A5%80_%E0%A4%AD%E0%A4%BE%E0%A4%B7%E0%A4%BE)',\n",
       " 'https://nl.wikipedia.org/wiki/Python',\n",
       " 'https://ja.wikipedia.org/wiki/%E3%83%91%E3%82%A4%E3%82%BD%E3%83%B3',\n",
       " 'https://no.wikipedia.org/wiki/Pyton',\n",
       " 'https://pl.wikipedia.org/wiki/Pyton',\n",
       " 'https://pt.wikipedia.org/wiki/Python_(desambigua%C3%A7%C3%A3o)',\n",
       " 'https://ru.wikipedia.org/wiki/Python_(%D0%B7%D0%BD%D0%B0%D1%87%D0%B5%D0%BD%D0%B8%D1%8F)',\n",
       " 'https://sk.wikipedia.org/wiki/Python',\n",
       " 'https://sr.wikipedia.org/wiki/%D0%9F%D0%B8%D1%82%D0%BE%D0%BD_(%D0%B2%D0%B8%D1%88%D0%B5%D0%B7%D0%BD%D0%B0%D1%87%D0%BD%D0%B0_%D0%BE%D0%B4%D1%80%D0%B5%D0%B4%D0%BD%D0%B8%D1%86%D0%B0)',\n",
       " 'https://sh.wikipedia.org/wiki/Python',\n",
       " 'https://fi.wikipedia.org/wiki/Python',\n",
       " 'https://sv.wikipedia.org/wiki/Pyton',\n",
       " 'https://th.wikipedia.org/wiki/%E0%B9%84%E0%B8%9E%E0%B8%97%E0%B8%AD%E0%B8%99',\n",
       " 'https://tr.wikipedia.org/wiki/Python',\n",
       " 'https://uk.wikipedia.org/wiki/%D0%9F%D1%96%D1%84%D0%BE%D0%BD',\n",
       " 'https://ur.wikipedia.org/wiki/%D9%BE%D8%A7%D8%A6%DB%8C%D8%AA%DA%BE%D9%88%D9%86',\n",
       " 'https://vi.wikipedia.org/wiki/Python',\n",
       " 'https://zh.wikipedia.org/wiki/Python_(%E6%B6%88%E6%AD%A7%E4%B9%89)',\n",
       " '//en.wikipedia.org/wiki/Wikipedia:Text_of_Creative_Commons_Attribution-ShareAlike_3.0_Unported_License',\n",
       " 'https://foundation.wikimedia.org/wiki/Privacy_policy',\n",
       " '/wiki/Wikipedia:About',\n",
       " '/wiki/Wikipedia:General_disclaimer',\n",
       " '//en.wikipedia.org/wiki/Wikipedia:Contact_us',\n",
       " '//en.m.wikipedia.org/w/index.php?title=Python&mobileaction=toggle_view_mobile',\n",
       " 'https://www.mediawiki.org/wiki/Special:MyLanguage/How_to_contribute',\n",
       " 'https://stats.wikimedia.org/#/en.wikipedia.org',\n",
       " 'https://foundation.wikimedia.org/wiki/Cookie_statement',\n",
       " 'https://wikimediafoundation.org/',\n",
       " 'https://www.mediawiki.org/']"
      ]
     },
     "execution_count": 67,
     "metadata": {},
     "output_type": "execute_result"
    }
   ],
   "source": [
    "# your code here\n",
    "\n",
    "html = requests.get(url).content\n",
    "soup = BeautifulSoup(html, 'html.parser')\n",
    "\n",
    "links = soup.find_all('li')\n",
    "\n",
    "link_list = [link.find('a') for link in links]\n",
    "\n",
    "link_none = [i for i in link_list if i]\n",
    "\n",
    "link = [link.get('href') for link in link_none]\n",
    "link"
   ]
  },
  {
   "cell_type": "markdown",
   "metadata": {},
   "source": [
    "#### Find the number of titles that have changed in the United States Code since its last release point."
   ]
  },
  {
   "cell_type": "code",
   "execution_count": 68,
   "metadata": {},
   "outputs": [],
   "source": [
    "# This is the url you will scrape in this exercise\n",
    "url = 'http://uscode.house.gov/download/download.shtml'"
   ]
  },
  {
   "cell_type": "code",
   "execution_count": 87,
   "metadata": {},
   "outputs": [
    {
     "data": {
      "text/plain": [
       "54"
      ]
     },
     "execution_count": 87,
     "metadata": {},
     "output_type": "execute_result"
    }
   ],
   "source": [
    "# your code here\n",
    "\n",
    "html = requests.get(url).content\n",
    "soup = BeautifulSoup(html, 'html.parser')\n",
    "\n",
    "titles = soup.find_all('div', id = re.compile('^us/usc/'))\n",
    "\n",
    "title_list = [title.get_text() for title in titles]\n",
    "\n",
    "def number_of_titles():\n",
    "    number_of_titles = 0\n",
    "    for i in title_list:\n",
    "        if 'Title' in i:\n",
    "            number_of_titles += 1\n",
    "    return number_of_titles\n",
    "\n",
    "number_of_titles()"
   ]
  },
  {
   "cell_type": "markdown",
   "metadata": {},
   "source": [
    "#### Find a Python list with the top ten FBI's Most Wanted names."
   ]
  },
  {
   "cell_type": "code",
   "execution_count": 88,
   "metadata": {},
   "outputs": [],
   "source": [
    "# This is the url you will scrape in this exercise\n",
    "url = 'https://www.fbi.gov/wanted/topten'"
   ]
  },
  {
   "cell_type": "code",
   "execution_count": 103,
   "metadata": {},
   "outputs": [
    {
     "data": {
      "text/plain": [
       "['ALEJANDRO ROSALES CASTILLO',\n",
       " 'ARNOLDO JIMENEZ',\n",
       " 'JASON DEREK BROWN',\n",
       " 'ALEXIS FLORES',\n",
       " 'JOSE RODOLFO VILLARREAL-HERNANDEZ',\n",
       " 'EUGENE PALMER',\n",
       " 'RAFAEL CARO-QUINTERO',\n",
       " 'ROBERT WILLIAM FISHER',\n",
       " 'BHADRESHKUMAR CHETANBHAI PATEL',\n",
       " 'YASER ABDEL SAID']"
      ]
     },
     "execution_count": 103,
     "metadata": {},
     "output_type": "execute_result"
    }
   ],
   "source": [
    "# your code here\n",
    "\n",
    "html = requests.get(url).content\n",
    "soup = BeautifulSoup(html, 'html.parser')\n",
    "\n",
    "top10 = soup.find_all('h3', {'class' : 'title'})\n",
    "\n",
    "names = [name.get_text().strip().split('\\n') for name in top10]\n",
    "\n",
    "top10_wanted = [i for x in names for i in x]\n",
    "\n",
    "top10_wanted"
   ]
  },
  {
   "cell_type": "markdown",
   "metadata": {},
   "source": [
    "####  Display the 20 latest earthquakes info (date, time, latitude, longitude and region name) by the EMSC as a pandas dataframe."
   ]
  },
  {
   "cell_type": "code",
   "execution_count": 6,
   "metadata": {},
   "outputs": [],
   "source": [
    "# This is the url you will scrape in this exercise\n",
    "url = 'https://www.emsc-csem.org/Earthquake/'"
   ]
  },
  {
   "cell_type": "code",
   "execution_count": 8,
   "metadata": {},
   "outputs": [
    {
     "data": {
      "text/html": [
       "<div>\n",
       "<style scoped>\n",
       "    .dataframe tbody tr th:only-of-type {\n",
       "        vertical-align: middle;\n",
       "    }\n",
       "\n",
       "    .dataframe tbody tr th {\n",
       "        vertical-align: top;\n",
       "    }\n",
       "\n",
       "    .dataframe thead th {\n",
       "        text-align: right;\n",
       "    }\n",
       "</style>\n",
       "<table border=\"1\" class=\"dataframe\">\n",
       "  <thead>\n",
       "    <tr style=\"text-align: right;\">\n",
       "      <th></th>\n",
       "      <th>3</th>\n",
       "      <th>4</th>\n",
       "      <th>5</th>\n",
       "      <th>6</th>\n",
       "      <th>7</th>\n",
       "      <th>8</th>\n",
       "      <th>9</th>\n",
       "      <th>10</th>\n",
       "      <th>11</th>\n",
       "      <th>12</th>\n",
       "    </tr>\n",
       "  </thead>\n",
       "  <tbody>\n",
       "    <tr>\n",
       "      <th>0</th>\n",
       "      <td>earthquake2021-02-03   17:11:03.424min ago</td>\n",
       "      <td>19.34</td>\n",
       "      <td>N</td>\n",
       "      <td>155.11</td>\n",
       "      <td>W</td>\n",
       "      <td>-1</td>\n",
       "      <td>Md</td>\n",
       "      <td>2.1</td>\n",
       "      <td>ISLAND OF HAWAII, HAWAII</td>\n",
       "      <td>2021-02-03 17:16</td>\n",
       "    </tr>\n",
       "    <tr>\n",
       "      <th>1</th>\n",
       "      <td>earthquake2021-02-03   16:52:57.542min ago</td>\n",
       "      <td>38.92</td>\n",
       "      <td>N</td>\n",
       "      <td>26.09</td>\n",
       "      <td>E</td>\n",
       "      <td>16</td>\n",
       "      <td>ML</td>\n",
       "      <td>3.0</td>\n",
       "      <td>NEAR THE COAST OF WESTERN TURKEY</td>\n",
       "      <td>2021-02-03 17:16</td>\n",
       "    </tr>\n",
       "    <tr>\n",
       "      <th>2</th>\n",
       "      <td>earthquake2021-02-03   16:49:15.445min ago</td>\n",
       "      <td>6.28</td>\n",
       "      <td>S</td>\n",
       "      <td>147.50</td>\n",
       "      <td>E</td>\n",
       "      <td>80</td>\n",
       "      <td>Mw</td>\n",
       "      <td>5.3</td>\n",
       "      <td>EASTERN NEW GUINEA REG., P.N.G.</td>\n",
       "      <td>2021-02-03 17:25</td>\n",
       "    </tr>\n",
       "    <tr>\n",
       "      <th>3</th>\n",
       "      <td>earthquake2021-02-03   16:41:15.053min ago</td>\n",
       "      <td>19.34</td>\n",
       "      <td>S</td>\n",
       "      <td>69.20</td>\n",
       "      <td>W</td>\n",
       "      <td>108</td>\n",
       "      <td>ML</td>\n",
       "      <td>2.8</td>\n",
       "      <td>TARAPACA, CHILE</td>\n",
       "      <td>2021-02-03 17:08</td>\n",
       "    </tr>\n",
       "    <tr>\n",
       "      <th>4</th>\n",
       "      <td>earthquake2021-02-03   16:29:24.51hr 05min ago</td>\n",
       "      <td>37.22</td>\n",
       "      <td>N</td>\n",
       "      <td>3.68</td>\n",
       "      <td>W</td>\n",
       "      <td>3</td>\n",
       "      <td>ML</td>\n",
       "      <td>1.5</td>\n",
       "      <td>SPAIN</td>\n",
       "      <td>2021-02-03 16:49</td>\n",
       "    </tr>\n",
       "    <tr>\n",
       "      <th>5</th>\n",
       "      <td>earthquake2021-02-03   16:10:58.71hr 24min ago</td>\n",
       "      <td>45.42</td>\n",
       "      <td>N</td>\n",
       "      <td>25.02</td>\n",
       "      <td>E</td>\n",
       "      <td>2</td>\n",
       "      <td>ML</td>\n",
       "      <td>2.3</td>\n",
       "      <td>ROMANIA</td>\n",
       "      <td>2021-02-03 16:55</td>\n",
       "    </tr>\n",
       "    <tr>\n",
       "      <th>6</th>\n",
       "      <td>earthquake2021-02-03   16:03:18.61hr 31min ago</td>\n",
       "      <td>19.30</td>\n",
       "      <td>N</td>\n",
       "      <td>68.88</td>\n",
       "      <td>W</td>\n",
       "      <td>10</td>\n",
       "      <td>mb</td>\n",
       "      <td>4.4</td>\n",
       "      <td>DOMINICAN REPUBLIC REGION</td>\n",
       "      <td>2021-02-03 16:21</td>\n",
       "    </tr>\n",
       "    <tr>\n",
       "      <th>7</th>\n",
       "      <td>earthquake2021-02-03   15:54:38.31hr 40min ago</td>\n",
       "      <td>32.74</td>\n",
       "      <td>N</td>\n",
       "      <td>115.82</td>\n",
       "      <td>W</td>\n",
       "      <td>10</td>\n",
       "      <td>Ml</td>\n",
       "      <td>2.4</td>\n",
       "      <td>SOUTHERN CALIFORNIA</td>\n",
       "      <td>2021-02-03 15:58</td>\n",
       "    </tr>\n",
       "    <tr>\n",
       "      <th>8</th>\n",
       "      <td>earthquake2021-02-03   15:50:05.01hr 44min ago</td>\n",
       "      <td>31.30</td>\n",
       "      <td>S</td>\n",
       "      <td>71.66</td>\n",
       "      <td>W</td>\n",
       "      <td>24</td>\n",
       "      <td>ML</td>\n",
       "      <td>2.8</td>\n",
       "      <td>OFFSHORE COQUIMBO, CHILE</td>\n",
       "      <td>2021-02-03 16:07</td>\n",
       "    </tr>\n",
       "    <tr>\n",
       "      <th>9</th>\n",
       "      <td>earthquake2021-02-03   15:46:00.21hr 49min ago</td>\n",
       "      <td>19.19</td>\n",
       "      <td>N</td>\n",
       "      <td>155.50</td>\n",
       "      <td>W</td>\n",
       "      <td>36</td>\n",
       "      <td>Ml</td>\n",
       "      <td>2.1</td>\n",
       "      <td>ISLAND OF HAWAII, HAWAII</td>\n",
       "      <td>2021-02-03 15:51</td>\n",
       "    </tr>\n",
       "    <tr>\n",
       "      <th>10</th>\n",
       "      <td>earthquake2021-02-03   15:26:51.92hr 08min ago</td>\n",
       "      <td>45.61</td>\n",
       "      <td>N</td>\n",
       "      <td>10.53</td>\n",
       "      <td>E</td>\n",
       "      <td>2</td>\n",
       "      <td>ML</td>\n",
       "      <td>2.2</td>\n",
       "      <td>NORTHERN ITALY</td>\n",
       "      <td>2021-02-03 16:08</td>\n",
       "    </tr>\n",
       "    <tr>\n",
       "      <th>11</th>\n",
       "      <td>earthquake2021-02-03   15:03:49.32hr 31min ago</td>\n",
       "      <td>38.93</td>\n",
       "      <td>N</td>\n",
       "      <td>26.09</td>\n",
       "      <td>E</td>\n",
       "      <td>14</td>\n",
       "      <td>ML</td>\n",
       "      <td>3.4</td>\n",
       "      <td>NEAR THE COAST OF WESTERN TURKEY</td>\n",
       "      <td>2021-02-03 16:07</td>\n",
       "    </tr>\n",
       "    <tr>\n",
       "      <th>12</th>\n",
       "      <td>earthquake2021-02-03   14:56:55.02hr 38min ago</td>\n",
       "      <td>39.13</td>\n",
       "      <td>N</td>\n",
       "      <td>36.04</td>\n",
       "      <td>E</td>\n",
       "      <td>13</td>\n",
       "      <td>ML</td>\n",
       "      <td>2.0</td>\n",
       "      <td>CENTRAL TURKEY</td>\n",
       "      <td>2021-02-03 15:38</td>\n",
       "    </tr>\n",
       "    <tr>\n",
       "      <th>13</th>\n",
       "      <td>earthquake2021-02-03   14:49:14.42hr 45min ago</td>\n",
       "      <td>37.20</td>\n",
       "      <td>N</td>\n",
       "      <td>3.69</td>\n",
       "      <td>W</td>\n",
       "      <td>10</td>\n",
       "      <td>ML</td>\n",
       "      <td>1.8</td>\n",
       "      <td>SPAIN</td>\n",
       "      <td>2021-02-03 16:22</td>\n",
       "    </tr>\n",
       "    <tr>\n",
       "      <th>14</th>\n",
       "      <td>earthquake2021-02-03   14:37:39.12hr 57min ago</td>\n",
       "      <td>36.63</td>\n",
       "      <td>N</td>\n",
       "      <td>3.25</td>\n",
       "      <td>W</td>\n",
       "      <td>4</td>\n",
       "      <td>ML</td>\n",
       "      <td>1.5</td>\n",
       "      <td>STRAIT OF GIBRALTAR</td>\n",
       "      <td>2021-02-03 15:39</td>\n",
       "    </tr>\n",
       "    <tr>\n",
       "      <th>15</th>\n",
       "      <td>earthquake2021-02-03   14:31:32.03hr 03min ago</td>\n",
       "      <td>21.98</td>\n",
       "      <td>S</td>\n",
       "      <td>68.77</td>\n",
       "      <td>W</td>\n",
       "      <td>112</td>\n",
       "      <td>ML</td>\n",
       "      <td>2.7</td>\n",
       "      <td>ANTOFAGASTA, CHILE</td>\n",
       "      <td>2021-02-03 14:40</td>\n",
       "    </tr>\n",
       "    <tr>\n",
       "      <th>16</th>\n",
       "      <td>earthquake2021-02-03   14:29:54.63hr 05min ago</td>\n",
       "      <td>34.32</td>\n",
       "      <td>N</td>\n",
       "      <td>78.27</td>\n",
       "      <td>E</td>\n",
       "      <td>40</td>\n",
       "      <td>mb</td>\n",
       "      <td>4.6</td>\n",
       "      <td>KASHMIR-XINJIANG BORDER REGION</td>\n",
       "      <td>2021-02-03 16:07</td>\n",
       "    </tr>\n",
       "    <tr>\n",
       "      <th>17</th>\n",
       "      <td>earthquake2021-02-03   14:22:06.03hr 12min ago</td>\n",
       "      <td>20.68</td>\n",
       "      <td>S</td>\n",
       "      <td>68.92</td>\n",
       "      <td>W</td>\n",
       "      <td>108</td>\n",
       "      <td>ML</td>\n",
       "      <td>2.7</td>\n",
       "      <td>TARAPACA, CHILE</td>\n",
       "      <td>2021-02-03 14:32</td>\n",
       "    </tr>\n",
       "    <tr>\n",
       "      <th>18</th>\n",
       "      <td>earthquake2021-02-03   13:53:58.63hr 41min ago</td>\n",
       "      <td>37.91</td>\n",
       "      <td>N</td>\n",
       "      <td>26.76</td>\n",
       "      <td>E</td>\n",
       "      <td>5</td>\n",
       "      <td>ML</td>\n",
       "      <td>2.5</td>\n",
       "      <td>DODECANESE ISLANDS, GREECE</td>\n",
       "      <td>2021-02-03 16:05</td>\n",
       "    </tr>\n",
       "    <tr>\n",
       "      <th>19</th>\n",
       "      <td>earthquake2021-02-03   13:36:11.83hr 58min ago</td>\n",
       "      <td>18.06</td>\n",
       "      <td>N</td>\n",
       "      <td>66.79</td>\n",
       "      <td>W</td>\n",
       "      <td>13</td>\n",
       "      <td>Md</td>\n",
       "      <td>2.1</td>\n",
       "      <td>PUERTO RICO</td>\n",
       "      <td>2021-02-03 13:45</td>\n",
       "    </tr>\n",
       "  </tbody>\n",
       "</table>\n",
       "</div>"
      ],
      "text/plain": [
       "                                                3       4    5        6    7   \\\n",
       "0       earthquake2021-02-03   17:11:03.424min ago  19.34   N    155.11   W     \n",
       "1       earthquake2021-02-03   16:52:57.542min ago  38.92   N     26.09   E     \n",
       "2       earthquake2021-02-03   16:49:15.445min ago   6.28   S    147.50   E     \n",
       "3       earthquake2021-02-03   16:41:15.053min ago  19.34   S     69.20   W     \n",
       "4   earthquake2021-02-03   16:29:24.51hr 05min ago  37.22   N      3.68   W     \n",
       "5   earthquake2021-02-03   16:10:58.71hr 24min ago  45.42   N     25.02   E     \n",
       "6   earthquake2021-02-03   16:03:18.61hr 31min ago  19.30   N     68.88   W     \n",
       "7   earthquake2021-02-03   15:54:38.31hr 40min ago  32.74   N    115.82   W     \n",
       "8   earthquake2021-02-03   15:50:05.01hr 44min ago  31.30   S     71.66   W     \n",
       "9   earthquake2021-02-03   15:46:00.21hr 49min ago  19.19   N    155.50   W     \n",
       "10  earthquake2021-02-03   15:26:51.92hr 08min ago  45.61   N     10.53   E     \n",
       "11  earthquake2021-02-03   15:03:49.32hr 31min ago  38.93   N     26.09   E     \n",
       "12  earthquake2021-02-03   14:56:55.02hr 38min ago  39.13   N     36.04   E     \n",
       "13  earthquake2021-02-03   14:49:14.42hr 45min ago  37.20   N      3.69   W     \n",
       "14  earthquake2021-02-03   14:37:39.12hr 57min ago  36.63   N      3.25   W     \n",
       "15  earthquake2021-02-03   14:31:32.03hr 03min ago  21.98   S     68.77   W     \n",
       "16  earthquake2021-02-03   14:29:54.63hr 05min ago  34.32   N     78.27   E     \n",
       "17  earthquake2021-02-03   14:22:06.03hr 12min ago  20.68   S     68.92   W     \n",
       "18  earthquake2021-02-03   13:53:58.63hr 41min ago  37.91   N     26.76   E     \n",
       "19  earthquake2021-02-03   13:36:11.83hr 58min ago  18.06   N     66.79   W     \n",
       "\n",
       "     8   9    10                                 11                12  \n",
       "0    -1  Md  2.1           ISLAND OF HAWAII, HAWAII  2021-02-03 17:16  \n",
       "1    16  ML  3.0   NEAR THE COAST OF WESTERN TURKEY  2021-02-03 17:16  \n",
       "2    80  Mw  5.3    EASTERN NEW GUINEA REG., P.N.G.  2021-02-03 17:25  \n",
       "3   108  ML  2.8                    TARAPACA, CHILE  2021-02-03 17:08  \n",
       "4     3  ML  1.5                              SPAIN  2021-02-03 16:49  \n",
       "5     2  ML  2.3                            ROMANIA  2021-02-03 16:55  \n",
       "6    10  mb  4.4          DOMINICAN REPUBLIC REGION  2021-02-03 16:21  \n",
       "7    10  Ml  2.4                SOUTHERN CALIFORNIA  2021-02-03 15:58  \n",
       "8    24  ML  2.8           OFFSHORE COQUIMBO, CHILE  2021-02-03 16:07  \n",
       "9    36  Ml  2.1           ISLAND OF HAWAII, HAWAII  2021-02-03 15:51  \n",
       "10    2  ML  2.2                     NORTHERN ITALY  2021-02-03 16:08  \n",
       "11   14  ML  3.4   NEAR THE COAST OF WESTERN TURKEY  2021-02-03 16:07  \n",
       "12   13  ML  2.0                     CENTRAL TURKEY  2021-02-03 15:38  \n",
       "13   10  ML  1.8                              SPAIN  2021-02-03 16:22  \n",
       "14    4  ML  1.5                STRAIT OF GIBRALTAR  2021-02-03 15:39  \n",
       "15  112  ML  2.7                 ANTOFAGASTA, CHILE  2021-02-03 14:40  \n",
       "16   40  mb  4.6     KASHMIR-XINJIANG BORDER REGION  2021-02-03 16:07  \n",
       "17  108  ML  2.7                    TARAPACA, CHILE  2021-02-03 14:32  \n",
       "18    5  ML  2.5         DODECANESE ISLANDS, GREECE  2021-02-03 16:05  \n",
       "19   13  Md  2.1                        PUERTO RICO  2021-02-03 13:45  "
      ]
     },
     "execution_count": 8,
     "metadata": {},
     "output_type": "execute_result"
    }
   ],
   "source": [
    "# your code here\n",
    "\n",
    "html = requests.get(url).content\n",
    "soup = BeautifulSoup(html, 'html.parser')\n",
    "\n",
    "\n",
    "\n",
    "table_rows = soup.find_all('tr', id = re.compile('[\\d]+5'))\n",
    "\n",
    "table_header = soup.find_all('tr', id = 'haut_tableau')\n",
    "\n",
    "header_list = []\n",
    "for tr in table_header:\n",
    "    th = tr.find_all('th')\n",
    "    row = [tr.text for tr in th]\n",
    "    header_list.append(row)\n",
    "\n",
    "\n",
    "body_list = []\n",
    "for tr in table_rows:\n",
    "    td = tr.find_all('td')\n",
    "    row = [tr.text for tr in td]\n",
    "    body_list.append(row)\n",
    "    \n",
    "df = pd.DataFrame(body_list).head(20)\n",
    "    \n",
    "#df.columns = header_list\n",
    "\n",
    "df.drop(columns = [0, 1, 2])"
   ]
  },
  {
   "cell_type": "markdown",
   "metadata": {},
   "source": [
    "#### Count the number of tweets by a given Twitter account.\n",
    "Ask the user for the handle (@handle) of a twitter account. You will need to include a ***try/except block*** for account names not found. \n",
    "<br>***Hint:*** the program should count the number of tweets for any provided account."
   ]
  },
  {
   "cell_type": "code",
   "execution_count": null,
   "metadata": {},
   "outputs": [],
   "source": [
    "# This is the url you will scrape in this exercise \n",
    "# You will need to add the account credentials to this url\n",
    "url = 'https://twitter.com/'"
   ]
  },
  {
   "cell_type": "code",
   "execution_count": null,
   "metadata": {},
   "outputs": [],
   "source": [
    "# your code here"
   ]
  },
  {
   "cell_type": "markdown",
   "metadata": {},
   "source": [
    "#### Number of followers of a given twitter account\n",
    "Ask the user for the handle (@handle) of a twitter account. You will need to include a ***try/except block*** for account names not found. \n",
    "<br>***Hint:*** the program should count the followers for any provided account."
   ]
  },
  {
   "cell_type": "code",
   "execution_count": null,
   "metadata": {},
   "outputs": [],
   "source": [
    "# This is the url you will scrape in this exercise \n",
    "# You will need to add the account credentials to this url\n",
    "url = 'https://twitter.com/'"
   ]
  },
  {
   "cell_type": "code",
   "execution_count": null,
   "metadata": {},
   "outputs": [],
   "source": [
    "# your code here"
   ]
  },
  {
   "cell_type": "markdown",
   "metadata": {},
   "source": [
    "#### List all language names and number of related articles in the order they appear in wikipedia.org."
   ]
  },
  {
   "cell_type": "code",
   "execution_count": null,
   "metadata": {},
   "outputs": [],
   "source": [
    "# This is the url you will scrape in this exercise\n",
    "url = 'https://www.wikipedia.org/'"
   ]
  },
  {
   "cell_type": "code",
   "execution_count": null,
   "metadata": {},
   "outputs": [],
   "source": [
    "# your code here"
   ]
  },
  {
   "cell_type": "markdown",
   "metadata": {},
   "source": [
    "#### A list with the different kind of datasets available in data.gov.uk."
   ]
  },
  {
   "cell_type": "code",
   "execution_count": null,
   "metadata": {},
   "outputs": [],
   "source": [
    "# This is the url you will scrape in this exercise\n",
    "url = 'https://data.gov.uk/'"
   ]
  },
  {
   "cell_type": "code",
   "execution_count": null,
   "metadata": {},
   "outputs": [],
   "source": [
    "# your code here"
   ]
  },
  {
   "cell_type": "markdown",
   "metadata": {},
   "source": [
    "#### Display the top 10 languages by number of native speakers stored in a pandas dataframe."
   ]
  },
  {
   "cell_type": "code",
   "execution_count": null,
   "metadata": {},
   "outputs": [],
   "source": [
    "# This is the url you will scrape in this exercise\n",
    "url = 'https://en.wikipedia.org/wiki/List_of_languages_by_number_of_native_speakers'"
   ]
  },
  {
   "cell_type": "code",
   "execution_count": null,
   "metadata": {},
   "outputs": [],
   "source": [
    "# your code here"
   ]
  },
  {
   "cell_type": "markdown",
   "metadata": {},
   "source": [
    "## Bonus\n",
    "#### Scrape a certain number of tweets of a given Twitter account."
   ]
  },
  {
   "cell_type": "code",
   "execution_count": null,
   "metadata": {},
   "outputs": [],
   "source": [
    "# This is the url you will scrape in this exercise \n",
    "# You will need to add the account credentials to this url\n",
    "url = 'https://twitter.com/'"
   ]
  },
  {
   "cell_type": "code",
   "execution_count": null,
   "metadata": {},
   "outputs": [],
   "source": [
    "# your code here"
   ]
  },
  {
   "cell_type": "markdown",
   "metadata": {},
   "source": [
    "#### Display IMDB's top 250 data (movie name, initial release, director name and stars) as a pandas dataframe."
   ]
  },
  {
   "cell_type": "code",
   "execution_count": null,
   "metadata": {},
   "outputs": [],
   "source": [
    "# This is the url you will scrape in this exercise \n",
    "url = 'https://www.imdb.com/chart/top'"
   ]
  },
  {
   "cell_type": "code",
   "execution_count": null,
   "metadata": {},
   "outputs": [],
   "source": [
    "# your code here"
   ]
  },
  {
   "cell_type": "markdown",
   "metadata": {},
   "source": [
    "#### Display the movie name, year and a brief summary of the top 10 random movies (IMDB) as a pandas dataframe."
   ]
  },
  {
   "cell_type": "code",
   "execution_count": null,
   "metadata": {},
   "outputs": [],
   "source": [
    "#This is the url you will scrape in this exercise\n",
    "url = 'http://www.imdb.com/chart/top'"
   ]
  },
  {
   "cell_type": "code",
   "execution_count": null,
   "metadata": {},
   "outputs": [],
   "source": [
    "# your code here"
   ]
  },
  {
   "cell_type": "markdown",
   "metadata": {},
   "source": [
    "#### Find the live weather report (temperature, wind speed, description and weather) of a given city."
   ]
  },
  {
   "cell_type": "code",
   "execution_count": null,
   "metadata": {},
   "outputs": [],
   "source": [
    "#https://openweathermap.org/current\n",
    "city = input('Enter the city: ')\n",
    "url = 'http://api.openweathermap.org/data/2.5/weather?'+'q='+city+'&APPID=b35975e18dc93725acb092f7272cc6b8&units=metric'"
   ]
  },
  {
   "cell_type": "code",
   "execution_count": null,
   "metadata": {},
   "outputs": [],
   "source": [
    "# your code here"
   ]
  },
  {
   "cell_type": "markdown",
   "metadata": {},
   "source": [
    "#### Find the book name, price and stock availability as a pandas dataframe."
   ]
  },
  {
   "cell_type": "code",
   "execution_count": null,
   "metadata": {},
   "outputs": [],
   "source": [
    "# This is the url you will scrape in this exercise. \n",
    "# It is a fictional bookstore created to be scraped. \n",
    "url = 'http://books.toscrape.com/'"
   ]
  },
  {
   "cell_type": "code",
   "execution_count": null,
   "metadata": {},
   "outputs": [],
   "source": [
    "# your code here"
   ]
  }
 ],
 "metadata": {
  "kernelspec": {
   "display_name": "Python [conda env:ironhack_env]",
   "language": "python",
   "name": "conda-env-ironhack_env-py"
  },
  "language_info": {
   "codemirror_mode": {
    "name": "ipython",
    "version": 3
   },
   "file_extension": ".py",
   "mimetype": "text/x-python",
   "name": "python",
   "nbconvert_exporter": "python",
   "pygments_lexer": "ipython3",
   "version": "3.8.5"
  }
 },
 "nbformat": 4,
 "nbformat_minor": 4
}
